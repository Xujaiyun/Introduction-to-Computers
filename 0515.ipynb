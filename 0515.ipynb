{
  "nbformat": 4,
  "nbformat_minor": 0,
  "metadata": {
    "colab": {
      "provenance": [],
      "authorship_tag": "ABX9TyNnmYXSqV1dZJtA4BjobKQx",
      "include_colab_link": true
    },
    "kernelspec": {
      "name": "python3",
      "display_name": "Python 3"
    },
    "language_info": {
      "name": "python"
    }
  },
  "cells": [
    {
      "cell_type": "markdown",
      "metadata": {
        "id": "view-in-github",
        "colab_type": "text"
      },
      "source": [
        "<a href=\"https://colab.research.google.com/github/Xujaiyun/Introduction-to-Computers/blob/main/0515.ipynb\" target=\"_parent\"><img src=\"https://colab.research.google.com/assets/colab-badge.svg\" alt=\"Open In Colab\"/></a>"
      ]
    },
    {
      "cell_type": "code",
      "execution_count": 1,
      "metadata": {
        "colab": {
          "base_uri": "https://localhost:8080/"
        },
        "id": "shNrQcujLI39",
        "outputId": "abbf2d78-1aab-4e72-c570-dda2aa624ac7"
      },
      "outputs": [
        {
          "output_type": "stream",
          "name": "stdout",
          "text": [
            "Hi\n"
          ]
        }
      ],
      "source": [
        "print(\"Hi\")"
      ]
    },
    {
      "cell_type": "code",
      "source": [
        "answer = input(\"請輸入 Y 或 N：\")\n",
        "if answer.lower() == \"y\":\n",
        "    print(\"\")\n",
        "elif answer.lower() == \"n\":\n",
        "    print(\"\")\n",
        "else:\n",
        "    print(\"重新輸入\")"
      ],
      "metadata": {
        "colab": {
          "base_uri": "https://localhost:8080/"
        },
        "id": "1jmaMOqHS7pQ",
        "outputId": "bf9644e0-714b-4518-a627-339e426eca1b"
      },
      "execution_count": 40,
      "outputs": [
        {
          "output_type": "stream",
          "name": "stdout",
          "text": [
            "請輸入 Y 或 N：u\n",
            "重新輸入\n"
          ]
        }
      ]
    },
    {
      "cell_type": "code",
      "source": [
        "T = int(input(\"你的體溫: \"))\n",
        "if  T >= 37.5:\n",
        "    print(\"體溫過高!\")\n",
        "elif T >= 37:\n",
        "    print('體溫略高!')\n",
        "elif T >= 34:\n",
        "    print('體溫正常!')\n",
        "else:\n",
        "    print('體溫異常，請重新量測!')"
      ],
      "metadata": {
        "colab": {
          "base_uri": "https://localhost:8080/"
        },
        "id": "Vvz8vm7-TE1-",
        "outputId": "8f04f23d-80cc-460b-cbd8-fd05700e1467"
      },
      "execution_count": 24,
      "outputs": [
        {
          "output_type": "stream",
          "name": "stdout",
          "text": [
            "你的體溫: 38\n",
            "體溫過高!\n"
          ]
        }
      ]
    },
    {
      "cell_type": "code",
      "source": [
        "T = float(input(\"你的體溫: \"))\n",
        "if T >= 37.5:\n",
        "    print(\"體溫過高!\")\n",
        "elif T >= 37:\n",
        "    print('體溫略高!')\n",
        "elif T >= 34:\n",
        "    print('體溫正常!')\n",
        "else:\n",
        "    print('體溫異常，請重新量測!')"
      ],
      "metadata": {
        "colab": {
          "base_uri": "https://localhost:8080/"
        },
        "id": "6_yGlBbcWyZj",
        "outputId": "17cd8b8a-5579-43a1-bb02-1b83405ddfe4"
      },
      "execution_count": 25,
      "outputs": [
        {
          "output_type": "stream",
          "name": "stdout",
          "text": [
            "你的體溫: 37.5\n",
            "體溫過高!\n"
          ]
        }
      ]
    },
    {
      "cell_type": "code",
      "source": [
        "T = int(input(\"請輸入成績 \"))\n",
        "if T >= 90:\n",
        "    print(\"A\")\n",
        "elif T >= 80:\n",
        "    print('B')\n",
        "elif T >= 70:\n",
        "    print('C')\n",
        "elif T >= 60:\n",
        "    print('D')\n",
        "else:\n",
        "    print('E')"
      ],
      "metadata": {
        "colab": {
          "base_uri": "https://localhost:8080/"
        },
        "id": "D6kkw1z1VO6q",
        "outputId": "748d358f-08c0-4d5d-f0ac-d0d781673600"
      },
      "execution_count": 29,
      "outputs": [
        {
          "output_type": "stream",
          "name": "stdout",
          "text": [
            "請輸入成績 90\n",
            "A\n"
          ]
        }
      ]
    },
    {
      "cell_type": "code",
      "source": [
        "month = int(input(\"請輸入月份 \"))\n",
        "if  month in [3,4,5]:\n",
        "    print(month,\"月是春天!\")\n",
        "elif month in [6,7,8]:\n",
        "    print(month,\"月是夏天!\")\n",
        "elif month in [9,10,11]:\n",
        "    print(month,\"月是秋天!\")\n",
        "elif month in [12,1,2]:\n",
        "    print(month,\"月是冬天!\")\n",
        "else:\n",
        "    print('月份不再範圍內!')"
      ],
      "metadata": {
        "colab": {
          "base_uri": "https://localhost:8080/"
        },
        "id": "yM9aj0_tTaC1",
        "outputId": "f5bb46ad-5503-499c-b16e-936ed6b495a6"
      },
      "execution_count": 34,
      "outputs": [
        {
          "output_type": "stream",
          "name": "stdout",
          "text": [
            "請輸入月份 98\n",
            "月份不再範圍內!\n"
          ]
        }
      ]
    },
    {
      "cell_type": "code",
      "source": [
        "T = int(input(\"請輸入今年收入淨額: \"))\n",
        "if T >= 2000000:\n",
        "  tax_rate = 0.3\n",
        "elif T >= 1000000:\n",
        "  tax_rate = 0.21    \n",
        "elif T >= 600000:\n",
        "  tax_rate = 0.13  \n",
        "elif T >= 300000:\n",
        "  tax_rate = 0.06  \n",
        "else:\n",
        "  tax_rate = 0\n",
        "Tax = T* tax_rate\n",
        "print(f\"付稅金額: {Tax} 元\")"
      ],
      "metadata": {
        "colab": {
          "base_uri": "https://localhost:8080/"
        },
        "id": "wzy2rB4UTr7s",
        "outputId": "39893773-28e3-44f3-b1ed-c7f1a2fc2654"
      },
      "execution_count": 38,
      "outputs": [
        {
          "output_type": "stream",
          "name": "stdout",
          "text": [
            "請輸入今年收入淨額: 2000000\n",
            "付稅金額: 600000.0 元\n"
          ]
        }
      ]
    }
  ]
}